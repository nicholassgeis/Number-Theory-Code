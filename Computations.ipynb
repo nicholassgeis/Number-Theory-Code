{
 "cells": [
  {
   "cell_type": "markdown",
   "metadata": {},
   "source": [
    "# Algebra Code"
   ]
  },
  {
   "cell_type": "markdown",
   "metadata": {},
   "source": [
    "Here we will develop a necessary computer algebra package in order to handle reduction in a quotient field. We will use the polynomial package in numpy"
   ]
  },
  {
   "cell_type": "code",
   "execution_count": 72,
   "metadata": {},
   "outputs": [],
   "source": [
    "import numpy as np\n",
    "\n",
    "f = np.poly1d([1,2,3])\n",
    "\n",
    "g = np.poly1d([2,3,4])\n",
    "\n",
    "#To extract coefficients, use:\n",
    "coeff_f = f.c\n",
    "coeff_g = g.c\n",
    "#Or if you want the k-th coefficient corresponding to x^k, use:\n",
    "    \n",
    "#To extract the degree of the polynomial, use:\n",
    "def deg(poly):\n",
    "    \n",
    "    return poly.order\n",
    "\n",
    "#Takes polynomials in Z[x] into F_q[x]\n",
    "\n",
    "def ZtoFq(poly, q):\n",
    "    \n",
    "    new_coeff = []\n",
    "    d = deg(poly)\n",
    "    \n",
    "    for k in range(0, d + 1):\n",
    "        \n",
    "        new_coeff.append((poly[d - k] % q))  \n",
    "        \n",
    "    return np.poly1d(new_coeff)"
   ]
  },
  {
   "cell_type": "code",
   "execution_count": 73,
   "metadata": {},
   "outputs": [],
   "source": [
    "new_f = ZtoFq(f, 2)"
   ]
  },
  {
   "cell_type": "code",
   "execution_count": 74,
   "metadata": {},
   "outputs": [
    {
     "data": {
      "text/plain": [
       "poly1d([1, 0, 1])"
      ]
     },
     "execution_count": 74,
     "metadata": {},
     "output_type": "execute_result"
    }
   ],
   "source": [
    "new_f"
   ]
  },
  {
   "cell_type": "markdown",
   "metadata": {},
   "source": [
    "# Legendre Symbol"
   ]
  },
  {
   "cell_type": "markdown",
   "metadata": {},
   "source": [
    "   Let $\\mathbb{F}_q$ be a finite field with characteristic $p$ and let $D(x) \\in \\mathbb{F}_q[x]$ be a monic polynomial of degree $d.$ Let $R$ be the ring defined as\n",
    "\n",
    "$$R : = \\left\\{ a(x) + b(x) \\sqrt{D(x)} \\ : \\ a(x), b(x) \\in \\mathbb{F}_q[x] \\right\\}.$$\n",
    "\n",
    "Let $P(x)$ be an irreducible polynomial in $\\mathbb{F}_q[x]$ and $a(x) \\in \\mathbb{F}_q[x]$. Then we define the *Legendre Symbol* as\n",
    "\n",
    "$$\n",
    "\\left( \\frac{a(x)}{P(x)} \\right) : =\n",
    "\\begin{cases}\n",
    "1, & \\text{if } P(x) \\nmid a(x) \\text{ and } a(x) \\text{ is a square modulo } P(x), \\\\\n",
    "-1, & \\text{if } P(x) \\nmid a(x) \\text{ and } a(x) \\text{ is not a square modulo } P(x), \\\\\n",
    "0, & \\text{if } P(x) \\mid a(x).\n",
    "\\end{cases}\n",
    "$$\n",
    "\n",
    "We also have an analog to the *Jacobi Symbol* with\n",
    "\n",
    "$$\\left( \\frac{a(x)}{b(x)} \\right) = \\prod_{j = 1}^r \\left( \\frac{a(x)}{Q_j(x)} \\right)^{\\alpha_j}$$\n",
    "\n",
    "where $a(x), b(x) \\in \\mathbb{F}_q[x]$ and $b(x) = Q_1(x)^{\\alpha_1} \\cdots Q_r(x)^{\\alpha_r}.$\n",
    "\n",
    "Furthermore, we have the quadratic reciprocity law for $a(x), b(x) \\in \\mathbb{F}_q[x]$, relatively prime, non-zero and monic\n",
    "\n",
    "$$\\left(\\frac{a(x)}{b(x)} \\right) \\left( \\frac{b(x)}{a(x)} \\right) = (-1)^{\\frac{|a| - 1}{2} \\frac{|b| - 1}{2}} = (-1)^{\\frac{q-1}{2} \\text{deg} a(x) \\cdot \\text{deg} b(x)}$$\n",
    "\n",
    "where $|f(x)| = q^{\\text{deg}f}.$"
   ]
  },
  {
   "cell_type": "code",
   "execution_count": null,
   "metadata": {},
   "outputs": [],
   "source": []
  }
 ],
 "metadata": {
  "kernelspec": {
   "display_name": "Python 3",
   "language": "python",
   "name": "python3"
  },
  "language_info": {
   "codemirror_mode": {
    "name": "ipython",
    "version": 3
   },
   "file_extension": ".py",
   "mimetype": "text/x-python",
   "name": "python",
   "nbconvert_exporter": "python",
   "pygments_lexer": "ipython3",
   "version": "3.7.3"
  }
 },
 "nbformat": 4,
 "nbformat_minor": 2
}
