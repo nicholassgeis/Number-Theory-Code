{
 "cells": [
  {
   "cell_type": "markdown",
   "metadata": {},
   "source": [
    "# Polynomial Functions"
   ]
  },
  {
   "cell_type": "code",
   "execution_count": 10,
   "metadata": {},
   "outputs": [],
   "source": [
    "import numpy as np\n",
    "import itertools\n",
    "import scipy\n",
    "\n",
    "\n",
    "\n",
    "#Easier to read polynomial function\n",
    "def poly(lst):  \n",
    "    return np.poly1d(lst)\n",
    "\n",
    "#To extract the degree of the polynomial, use:\n",
    "def deg(poly):  \n",
    "    return poly.order\n",
    "\n",
    "#To extract the leading coefficient of the polynomial:\n",
    "def leadingcoff(poly):\n",
    "    return int(poly.c[0])\n",
    "\n",
    "#Takes derivative\n",
    "def deriv(f):\n",
    "    return np.polyder(f)\n",
    "\n",
    "#x^k generator\n",
    "#INPUT: k\n",
    "#OUTPUT: x^k\n",
    "def monomial_k(k):\n",
    "    lst = []\n",
    "    for i in range(0, k+1):  \n",
    "        if i != 0:\n",
    "            lst.append(0)    \n",
    "        else:\n",
    "            lst.append(1)        \n",
    "    return poly(lst)\n",
    "\n",
    "#Takes polynomials from Z[x] into F_p[x]\n",
    "#INPUT: polynomial in Z[x]\n",
    "#OUTPUT: polynomial in F_p[x]\n",
    "def ZtoFq(poly, p):\n",
    "    \n",
    "    new_coeff = []\n",
    "    d = deg(poly)\n",
    "    \n",
    "    for k in range(0, d + 1):\n",
    "        \n",
    "        new_coeff.append((poly[d - k] % p))  \n",
    "        \n",
    "    return np.poly1d(new_coeff)\n",
    "\n",
    "#I'm stupid. I'm so stupid\n",
    "#INPUT: f, g polynomials in Z/pZ[x]\n",
    "#OUTPUT: the image of f under the quotient map into Z/pZ[x]/(g)\n",
    "def fasterquotientmap(f, g, p):\n",
    "    \n",
    "    return polydiv(f, g, p)[1]\n",
    "\n",
    "#Generates list of all possible lists of polynomial coefficients in Z/pZ with degree strictly less than d\n",
    "def lstofpolynomials(p, d):\n",
    "    \n",
    "    lst = []\n",
    "    \n",
    "    for coeffs in itertools.product(range(p), repeat = d):\n",
    "        lst.append(coeffs)\n",
    "\n",
    "    return lst\n",
    "\n",
    "def lstofmonicpolynomials(p, d):\n",
    "    \n",
    "    lst = []\n",
    "    \n",
    "    for coeffs in itertools.product(range(p), repeat = d):\n",
    "        lst.append([1] + list(coeffs))\n",
    "        \n",
    "    return lst\n",
    "\n",
    "#Performs polynomial long division\n",
    "def polydiv(f, g, p):\n",
    "    f = ZtoFq(f, p)\n",
    "    g = ZtoFq(g, p)\n",
    "\n",
    "    if g == poly([0]):\n",
    "        return \"I am so dissappointed\"\n",
    "\n",
    "    q = poly([0])\n",
    "    r = f\n",
    "\n",
    "    while (r != poly([0])) and (deg(r) >= deg(g)):\n",
    "        # This is what we subtract by during long division\n",
    "        coeff = (leadingcoff(r) * inverse(int(leadingcoff(g)), p)) % p\n",
    "        t = coeff * monomial_k(deg(r) - deg(g))\n",
    "\n",
    "        q_new = q + t\n",
    "        r_new = r - t * g\n",
    "\n",
    "        q = ZtoFq(q_new, p)\n",
    "        r = ZtoFq(r_new, p)\n",
    "\n",
    "    return (q, r)\n",
    "\n",
    "#INPUT: a polynomial in f in Z/pZ[x]\n",
    "#OUTPUT: True if f is squarefree in Z/pZ[x], False else\n",
    "def squarefree(f, p):\n",
    "    \n",
    "    g = ZtoFq(deriv(f), p)\n",
    "    \n",
    "    h = gcdfinder(f, g, p)[2]\n",
    "    \n",
    "    if deg(h) == 0:\n",
    "        return True\n",
    "    \n",
    "    else:\n",
    "        return False\n"
   ]
  },
  {
   "cell_type": "markdown",
   "metadata": {},
   "source": [
    "# Finite Field Tools"
   ]
  },
  {
   "cell_type": "code",
   "execution_count": 2,
   "metadata": {},
   "outputs": [],
   "source": [
    "import math\n",
    "\n",
    "# Applies the Euclidean Algorithm to compute the gcd of polynomials f and g in Z/pZ[x]\n",
    "# The output array (u0, v0, r0) are the polynomials for f and g such that\n",
    "#            u0*f + v0*g = r0\n",
    "# If the inputs are coprime, then r0 will be a constant\n",
    "def gcdfinder(f, g, p):\n",
    "    r0 = f\n",
    "    r1 = g\n",
    "    u0 = poly([1])\n",
    "    v0 = poly([0])\n",
    "    u1 = poly([0])\n",
    "    v1 = poly([1])\n",
    "\n",
    "    while (r1 != poly([0])):\n",
    "        quot = polydiv(r0, r1, p)[0]\n",
    "\n",
    "        R = ZtoFq(-quot * r1 + r0, p)\n",
    "        r0 = r1\n",
    "        r1 = R\n",
    "\n",
    "        U = ZtoFq(-quot * u1 + u0, p)\n",
    "        u0 = u1\n",
    "        u1 = U\n",
    "\n",
    "        V = ZtoFq(-quot * v1 + v0, p)\n",
    "        v0 = v1\n",
    "        v1 = V\n",
    "\n",
    "    return (u0, v0, r0)\n",
    "\n",
    "#Computes the inverse of x in Z/pZ\n",
    "def inverse(x, p):\n",
    "    inv = 1\n",
    "    for k in range(1, p):\n",
    "        if (k*x % p == 1):\n",
    "            inv = k\n",
    "    return inv\n",
    "\n",
    "#INPUT: polynomial g in Z/pZ[x]\n",
    "#OUTPUT: a monic polynomial g' such that (g) = (g') in Z/pZ[x]\n",
    "def makemonic(g, p):\n",
    "    f = inverse(leadingcoff(g), p)*g\n",
    "    return ZtoFq(f, p)\n",
    "\n",
    "#Brute force irreducibility checker for polynomials in Z/pZ[x]\n",
    "def irreducible(f, p):\n",
    "    \n",
    "    d = deg(f)\n",
    "        \n",
    "    for poly in lstofpolynomials(p, d):\n",
    "        \n",
    "        if deg(np.poly1d(poly)) == 0:\n",
    "            \n",
    "            continue\n",
    "        \n",
    "        if polydiv(f, np.poly1d(poly), p)[1] == np.poly1d([0]):\n",
    "            \n",
    "            return False\n",
    "    \n",
    "    return True"
   ]
  },
  {
   "cell_type": "markdown",
   "metadata": {},
   "source": [
    "# Random Generator Tools"
   ]
  },
  {
   "cell_type": "code",
   "execution_count": 3,
   "metadata": {},
   "outputs": [],
   "source": [
    "import random as rnd\n",
    "\n",
    "\n",
    "#Generates a random polynomial of degree d in Z/pZ[x]\n",
    "def randompoly(d, p):\n",
    "    \n",
    "    lst = [rnd.randint(1, p-1)]\n",
    "    \n",
    "    for l in range(1, d+1):\n",
    "        \n",
    "        lst.append(rnd.randint(0, p-1))\n",
    "    \n",
    "    return np.poly1d(lst)\n",
    "\n",
    "#Generates a random irreducible polynomial of degree d in Z/pZ[x]\n",
    "def randomirreducible(d, p):\n",
    "    \n",
    "    f = randompoly(d, p)\n",
    "    \n",
    "    while irreducible(f, p) == False:\n",
    "        \n",
    "        f = randompoly(d, p)\n",
    "    \n",
    "    return f\n",
    "\n",
    "#Generates a random squarefree polynomial of degree d in Z/pZ[x]\n",
    "\n",
    "def randomsquarefree(d, p):\n",
    "    \n",
    "    f = randompoly(d, p)\n",
    "    \n",
    "    while squarefree(f, p) == False:\n",
    "        \n",
    "        f = randompoly(d, p)\n",
    "        \n",
    "    return f\n"
   ]
  },
  {
   "cell_type": "markdown",
   "metadata": {},
   "source": [
    "# Legendre Symbol"
   ]
  },
  {
   "cell_type": "code",
   "execution_count": 4,
   "metadata": {},
   "outputs": [],
   "source": [
    "from sympy.ntheory import legendre_symbol\n",
    "\n",
    "def legendresymbol(f, h, p):\n",
    "    \n",
    "    legsym = 1\n",
    "    h = makemonic(h, p)\n",
    "    \n",
    "    while True:\n",
    "        \n",
    "        if (deg(h) == 0) and (h != poly([0])):\n",
    "            return 1\n",
    "        \n",
    "        f = fasterquotientmap(f, h, p)\n",
    "        \n",
    "        if (f == poly([0])):\n",
    "            return 0\n",
    "        \n",
    "        c = leadingcoff(f)\n",
    "        \n",
    "        if (deg(f) == 0):    \n",
    "            return (legendre_symbol(int(c), p)**(deg(h)))*legsym\n",
    "        \n",
    "        f = ZtoFq(inverse(c, p)*f, p)\n",
    "        \n",
    "        if (((p-1)/2) % 2 == 1) and (deg(f) % 2 == 1) and (deg(h) % 2 == 1):\n",
    "            \n",
    "            legsym = -legendre_symbol(int(c), p)**(deg(h))*legsym\n",
    "            \n",
    "        else:\n",
    "            \n",
    "            legsym = legendre_symbol(int(c), p)**(deg(h))*legsym\n",
    "            \n",
    "        G = h\n",
    "        h = f\n",
    "        f = G\n",
    "   "
   ]
  },
  {
   "cell_type": "code",
   "execution_count": 6,
   "metadata": {},
   "outputs": [
    {
     "data": {
      "text/plain": [
       "0"
      ]
     },
     "execution_count": 6,
     "metadata": {},
     "output_type": "execute_result"
    }
   ],
   "source": [
    "deg(poly([0]))"
   ]
  },
  {
   "cell_type": "markdown",
   "metadata": {},
   "source": [
    "# Brute Force Legendre Symbol"
   ]
  },
  {
   "cell_type": "code",
   "execution_count": 5,
   "metadata": {},
   "outputs": [],
   "source": [
    "#Computes the set of squares in the quotient ring F_p[T]/(g) where deg(g) = d (Only works for q = p prime and odd)\n",
    "#This code also requires that g is monic or else the image under the quotient map will get... weird\n",
    "#For convenience, g will be become a monic polynomial that generates the same ideal as g\n",
    "def lstofsquares(g, p):\n",
    "    \n",
    "    g = makemonic(g, p)\n",
    "    \n",
    "    d = deg(g)\n",
    "    \n",
    "    lst = lstofpolynomials(p, d)\n",
    "    \n",
    "    sqlst = []\n",
    "    \n",
    "    for poly in lst:\n",
    "        \n",
    "        f = fasterquotientmap(np.poly1d(poly)*np.poly1d(poly), g, p)\n",
    "\n",
    "        sqlst.append(list(f.c))\n",
    "    \n",
    "    #This line of code erases duplicate entries in the list of squares\n",
    "    sqlst = [k for k,v in itertools.groupby(sorted(sqlst))]\n",
    "        \n",
    "    return sqlst\n",
    "\n",
    "#WARNING: This method only works for irreducible g.\n",
    "#Remember that the Legendre symbol defined as f = square mod g works for g irreducible.\n",
    "#When g is not, we are working with the Jacobi symbol which does not have the same residue meaning as the\n",
    "#Legendre symbol! i.e. (f/g) = 1 does not imply that f = square mod g\n",
    "def bruteforcelegendrecomputation(f, g, p):\n",
    "    \n",
    "    g = makemonic(g, p)\n",
    "    f = fasterquotientmap(f, g, p)\n",
    "    f_coeff = list(f.c)\n",
    "    \n",
    "    if f_coeff == [0]:\n",
    "        \n",
    "        return 0\n",
    "    \n",
    "    if (f_coeff in lstofsquares(g, p)) == True:\n",
    "        \n",
    "        return 1\n",
    "    \n",
    "    if (f_coeff in lstofsquares(g, p)) == False:\n",
    "        \n",
    "        return -1\n",
    "        "
   ]
  },
  {
   "cell_type": "markdown",
   "metadata": {},
   "source": [
    "# Legendre Symbol Verifier"
   ]
  },
  {
   "cell_type": "code",
   "execution_count": 6,
   "metadata": {},
   "outputs": [],
   "source": [
    "#Performs n random tests of the Legendre symbol between two polynomials of at most degree d\n",
    "#Compares outputs of Legendresymbol function and bruteforcelegendrecomputation function\n",
    "def testlegendresymbol(n, d):\n",
    "    \n",
    "    k = 0\n",
    "    primes = [3, 5, 7, 11, 13, 17, 19, 23]\n",
    "    \n",
    "    while k < n:\n",
    "        \n",
    "        p = primes[rnd.randint(0, 7)]\n",
    "        \n",
    "        deg1 = rnd.randint(0, d)\n",
    "        deg2 = rnd.randint(1, d)\n",
    "        \n",
    "        f = randompoly(deg1, p)\n",
    "        print(f)\n",
    "        \n",
    "        g = randomirreducible(deg2, p)\n",
    "        print(g)\n",
    "        print(irreducible(g, p))\n",
    "        \n",
    "        print(p)\n",
    "        print(legendresymbol(f, g, p))\n",
    "        print(bruteforcelegendrecomputation(f, g, p))\n",
    "        print(legendresymbol(f, g, p) == bruteforcelegendrecomputation(f, g, p))\n",
    "            \n",
    "        k = k + 1\n",
    "    "
   ]
  },
  {
   "cell_type": "markdown",
   "metadata": {},
   "source": [
    "# L-function"
   ]
  },
  {
   "cell_type": "markdown",
   "metadata": {},
   "source": [
    "Let $\\mathbb{F}_q$ be a finite field with characteristic $p$ and let $D(x) \\in \\mathbb{F}_q[x]$ be a monic, squarefree polynomial of degree $d.$ Let $R$ be the ring defined as\n",
    "\n",
    "$$R : = \\left\\{ a(x) + b(x) \\sqrt{D(x)} \\ : \\ a(x), b(x) \\in \\mathbb{F}_q[x] \\right\\}.$$\n",
    "\n",
    "Let $P(x)$ be an irreducible polynomial in $\\mathbb{F}_q[x]$ and $a(x) \\in \\mathbb{F}_q[x]$. Then we define the *Legendre Symbol* as\n",
    "\n",
    "$$\n",
    "\\left( \\frac{a(x)}{P(x)} \\right) : =\n",
    "\\begin{cases}\n",
    "1, & \\text{if } P(x) \\nmid a(x) \\text{ and } a(x) \\text{ is a square modulo } P(x), \\\\\n",
    "-1, & \\text{if } P(x) \\nmid a(x) \\text{ and } a(x) \\text{ is not a square modulo } P(x), \\\\\n",
    "0, & \\text{if } P(x) \\mid a(x).\n",
    "\\end{cases}\n",
    "$$\n",
    "\n",
    "We also have an analog to the *Jacobi Symbol* with\n",
    "\n",
    "$$\\left( \\frac{a(x)}{b(x)} \\right) = \\prod_{j = 1}^r \\left( \\frac{a(x)}{Q_j(x)} \\right)^{\\alpha_j}$$\n",
    "\n",
    "where $a(x), b(x) \\in \\mathbb{F}_q[x]$ and $b(x) = Q_1(x)^{\\alpha_1} \\cdots Q_r(x)^{\\alpha_r}.$\n",
    "\n",
    "Furthermore, we have the quadratic reciprocity law for $a(x), b(x) \\in \\mathbb{F}_q[x]$, relatively prime, non-zero and monic\n",
    "\n",
    "$$\\left(\\frac{a(x)}{b(x)} \\right) \\left( \\frac{b(x)}{a(x)} \\right) = (-1)^{\\frac{|a| - 1}{2} \\frac{|b| - 1}{2}} = (-1)^{\\frac{q-1}{2} \\text{deg} a(x) \\cdot \\text{deg} b(x)}$$\n",
    "\n",
    "where $|f(x)| = q^{\\text{deg}f}.$\n",
    "\n",
    "For our sake, for polynomials $D(x), n(x) \\in \\mathbb{F}_q[x]$ we define the character\n",
    "$$\\chi_D (n) : = \\left( \\frac{D(x)}{n(x)} \\right).$$\n",
    "Additionally, as per usual, we define the *L-function* of $\\chi_D$ as\n",
    "$$L(s, \\chi_D) : = \\sum_{\\substack{n \\in \\mathbb{F}_q[x], \\text{ monic} \\\\ \\text{deg}(n) \\geq 0}} \\frac{\\chi_D(n)}{|n|^s}$$\n",
    "where $|n| = q^{\\text{deg} n}.$ By the definition of $|\\cdot|$, we can rearrange the sum to get\n",
    "$$L(s, \\chi_D) = \\sum_{r = 0}^{\\infty} q^{-rs} \\sum_{\\substack{n \\in \\mathbb{F}_q[x], \\text{ monic} \\\\ \\text{deg }n = r}} \\chi_D(n).$$"
   ]
  },
  {
   "cell_type": "code",
   "execution_count": 7,
   "metadata": {},
   "outputs": [],
   "source": [
    "# the sum of the legendre symbol of polynomial D(x) of all monic polynomials in Z/pZ[x] of degree exactly r\n",
    "\n",
    "def innersum(D, r, p):\n",
    "    \n",
    "    summm = 0\n",
    "    \n",
    "    for item in lstofmonicpolynomials(p, r):\n",
    "        \n",
    "        summm = summm + legendresymbol(D, poly(item), p)\n",
    "        \n",
    "    return summm\n",
    "\n",
    "# The L-function with character \\chi_D\n",
    "# This is so bad. It is way too slow\n",
    "def Lfunction(s, D, p):\n",
    "    \n",
    "    summ = 0\n",
    "    \n",
    "    D = makemonic(D, p)\n",
    "    \n",
    "    for r in range(0, deg(D)):\n",
    "        summ = summ + (p**(-r*s))*innersum(D, r, p)\n",
    "    \n",
    "    return summ\n",
    "\n",
    "#This will output the Lfunction for D as a polynomial\n",
    "def polyLfunction(D, p):\n",
    "    D = makemonic(D, p)\n",
    "    d = deg(D)\n",
    "    lst = []\n",
    "    \n",
    "    for r in range(0, d):\n",
    "        \n",
    "        lst.append(innersum(D, d - 1 - r, p))\n",
    "        \n",
    "    return poly(lst)\n",
    "        "
   ]
  },
  {
   "cell_type": "code",
   "execution_count": 8,
   "metadata": {},
   "outputs": [
    {
     "name": "stdout",
     "output_type": "stream",
     "text": [
      "Innersum: 0 1\n",
      "1\n",
      "Innersum: 1 -1\n",
      "0\n",
      "Innersum: 2 5\n",
      "5\n",
      "Innersum: 3 -5\n",
      "0\n"
     ]
    }
   ],
   "source": [
    "summ = 0\n",
    "for k in range(0, 4):\n",
    "    test = innersum(poly([1, 0, 2, 1, 3]), k, 5)\n",
    "    print(\"Innersum:\", k, test)\n",
    "    summ = summ + test\n",
    "    print(summ)"
   ]
  },
  {
   "cell_type": "code",
   "execution_count": 25,
   "metadata": {},
   "outputs": [
    {
     "data": {
      "text/plain": [
       "0"
      ]
     },
     "execution_count": 25,
     "metadata": {},
     "output_type": "execute_result"
    }
   ],
   "source": [
    "Lfunction(0,poly([1, 0, 2, 1, 3]), 5)"
   ]
  },
  {
   "cell_type": "code",
   "execution_count": 15,
   "metadata": {},
   "outputs": [
    {
     "data": {
      "text/plain": [
       "0"
      ]
     },
     "execution_count": 15,
     "metadata": {},
     "output_type": "execute_result"
    }
   ],
   "source": [
    "innersum(poly([1, 0, 2, 1, 3]), 5, 5)"
   ]
  },
  {
   "cell_type": "code",
   "execution_count": 19,
   "metadata": {},
   "outputs": [
    {
     "data": {
      "text/plain": [
       "0"
      ]
     },
     "execution_count": 19,
     "metadata": {},
     "output_type": "execute_result"
    }
   ],
   "source": [
    "legendresymbol(poly([1, 0, 2, 1, 3]), poly([1]), 5)"
   ]
  },
  {
   "cell_type": "code",
   "execution_count": 18,
   "metadata": {},
   "outputs": [
    {
     "name": "stdout",
     "output_type": "stream",
     "text": [
      "   6     5     4     3     2\n",
      "1 x + 2 x + 3 x + 1 x + 4 x + 4 x\n"
     ]
    }
   ],
   "source": [
    "f = randomsquarefree(6, 5)\n",
    "print(f)"
   ]
  },
  {
   "cell_type": "code",
   "execution_count": 19,
   "metadata": {},
   "outputs": [
    {
     "data": {
      "text/plain": [
       "poly1d([1, 2, 3, 1, 4, 4, 0])"
      ]
     },
     "execution_count": 19,
     "metadata": {},
     "output_type": "execute_result"
    }
   ],
   "source": [
    "f"
   ]
  },
  {
   "cell_type": "code",
   "execution_count": 23,
   "metadata": {},
   "outputs": [
    {
     "data": {
      "text/plain": [
       "poly1d([-25,  20,   6,  -2,   0,   1])"
      ]
     },
     "execution_count": 23,
     "metadata": {},
     "output_type": "execute_result"
    }
   ],
   "source": [
    "g"
   ]
  },
  {
   "cell_type": "code",
   "execution_count": 24,
   "metadata": {},
   "outputs": [
    {
     "data": {
      "text/plain": [
       "(poly1d([25.,  5., -1.,  1.,  1.]), poly1d([0.]))"
      ]
     },
     "execution_count": 24,
     "metadata": {},
     "output_type": "execute_result"
    }
   ],
   "source": [
    "np.polydiv(g, poly([-1, 1]))"
   ]
  },
  {
   "cell_type": "code",
   "execution_count": 25,
   "metadata": {},
   "outputs": [
    {
     "data": {
      "text/plain": [
       "poly1d([1, 1, 0, 3, 4, 4, 4])"
      ]
     },
     "execution_count": 25,
     "metadata": {},
     "output_type": "execute_result"
    }
   ],
   "source": [
    "makemonic(poly([3, 3, 0, 4, 2, 2, 2]), 5)"
   ]
  },
  {
   "cell_type": "markdown",
   "metadata": {},
   "source": [
    "# Using the Z_C"
   ]
  },
  {
   "cell_type": "markdown",
   "metadata": {},
   "source": [
    "For a curve $C$ we can associate a zeta-function defined as\n",
    "\n",
    "$$Z_C(u) : = \\exp \\left( \\sum_{r =1}^{\\infty} N_r(C) \\frac{u^r}{r} \\right).$$\n",
    "\n",
    "Recall the usual moment problem of computing the sum\n",
    "\n",
    "$$ \\lim_{q \\to \\infty} \\frac{1}{\\# \\mathcal{H}_{q, d}} \\sum_{D(x) \\in \\mathcal{H}_{q, d}} L(1/2, \\chi_D)^k.$$\n",
    "\n"
   ]
  },
  {
   "cell_type": "code",
   "execution_count": 24,
   "metadata": {},
   "outputs": [],
   "source": [
    "def binomial(k, l):\n",
    "    \n",
    "    return (math.factorial(k)/(math.factorial(k - l)*math.factorial(l)))\n",
    "\n",
    "def c(k, l, q):\n",
    "    \n",
    "    if l > k:\n",
    "        return 0\n",
    "    \n",
    "    solution = ((1 + q**2)**(k-l))*(q**(l/2))\n",
    "    solution = solution*binomial(k,l)\n",
    "    solution = solution*((-1)**l)\n",
    "    \n",
    "    if int(solution) == solution:\n",
    "        \n",
    "        return int(solution)\n",
    "    \n",
    "    else:\n",
    "        \n",
    "        return solution\n",
    "\n",
    "def fqkmaker(k, q):\n",
    "    \n",
    "    lst = []\n",
    "    \n",
    "    for l in range(0, k + 1):\n",
    "    \n",
    "        lst.append(c(k, k-l, q))\n",
    "        \n",
    "    return poly(lst)"
   ]
  },
  {
   "cell_type": "code",
   "execution_count": 43,
   "metadata": {},
   "outputs": [
    {
     "data": {
      "text/plain": [
       "poly1d([   -27,   2214, -60516, 551368])"
      ]
     },
     "execution_count": 43,
     "metadata": {},
     "output_type": "execute_result"
    }
   ],
   "source": [
    "fqkmaker(3, 9)"
   ]
  },
  {
   "cell_type": "code",
   "execution_count": 30,
   "metadata": {},
   "outputs": [
    {
     "data": {
      "text/plain": [
       "25.0"
      ]
     },
     "execution_count": 30,
     "metadata": {},
     "output_type": "execute_result"
    }
   ],
   "source": []
  },
  {
   "cell_type": "code",
   "execution_count": null,
   "metadata": {},
   "outputs": [],
   "source": []
  }
 ],
 "metadata": {
  "kernelspec": {
   "display_name": "Python 3",
   "language": "python",
   "name": "python3"
  },
  "language_info": {
   "codemirror_mode": {
    "name": "ipython",
    "version": 3
   },
   "file_extension": ".py",
   "mimetype": "text/x-python",
   "name": "python",
   "nbconvert_exporter": "python",
   "pygments_lexer": "ipython3",
   "version": "3.7.3"
  }
 },
 "nbformat": 4,
 "nbformat_minor": 2
}
