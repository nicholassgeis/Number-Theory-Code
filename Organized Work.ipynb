{
 "cells": [
  {
   "cell_type": "markdown",
   "metadata": {},
   "source": [
    "# Polynomial Functions"
   ]
  },
  {
   "cell_type": "code",
   "execution_count": null,
   "metadata": {},
   "outputs": [],
   "source": [
    "import numpy as np\n",
    "import itertools\n",
    "\n",
    "\n",
    "\n",
    "#Easier to read polynomial function\n",
    "def poly(lst):  \n",
    "    return np.poly1d(lst)\n",
    "\n",
    "#To extract the degree of the polynomial, use:\n",
    "def deg(poly):  \n",
    "    return poly.order\n",
    "\n",
    "#To extract the leading coefficient of the polynomial:\n",
    "def leadingcoff(poly):\n",
    "    return int(poly.c[0])\n",
    "\n",
    "#x^k generator\n",
    "#INPUT: k\n",
    "#OUTPUT: x^k\n",
    "def monomial_k(k):\n",
    "    lst = []\n",
    "    for i in range(0, k+1):  \n",
    "        if i != 0:\n",
    "            lst.append(0)    \n",
    "        else:\n",
    "            lst.append(1)        \n",
    "    return poly(lst)\n",
    "\n",
    "#Takes polynomials from Z[x] into F_p[x]\n",
    "#INPUT: polynomial in Z[x]\n",
    "#OUTPUT: polynomial in F_p[x]\n",
    "def ZtoFq(poly, p):\n",
    "    \n",
    "    new_coeff = []\n",
    "    d = deg(poly)\n",
    "    \n",
    "    for k in range(0, d + 1):\n",
    "        \n",
    "        new_coeff.append((poly[d - k] % p))  \n",
    "        \n",
    "    return np.poly1d(new_coeff)\n",
    "\n",
    "#I'm stupid. I'm so stupid\n",
    "#INPUT: f, g polynomials in Z/pZ[x]\n",
    "#OUTPUT: the image of f under the quotient map into Z/pZ[x]/(g)\n",
    "def fasterquotientmap(f, g, p):\n",
    "    \n",
    "    return polydiv(f, g, p)[1]\n",
    "\n",
    "#Generates list of all possible lists of polynomial coefficients in Z/pZ with degree strictly less than d\n",
    "def lstofpolynomials(p, d):\n",
    "    \n",
    "    lst = []\n",
    "    \n",
    "    for coeffs in itertools.product(range(p), repeat = d):\n",
    "        lst.append(coeffs)\n",
    "\n",
    "    return lst\n",
    "\n",
    "#Performs polynomial long division\n",
    "def polydiv(f, g, p):\n",
    "    f = ZtoFq(f, p)\n",
    "    g = ZtoFq(g, p)\n",
    "\n",
    "    if g == poly([0]):\n",
    "        return \"I am so dissappointed\"\n",
    "\n",
    "    q = poly([0])\n",
    "    r = f\n",
    "\n",
    "    while (r != poly([0])) and (deg(r) >= deg(g)):\n",
    "        # This is what we subtract by during long division\n",
    "        coeff = (leadingcoff(r) * inverse(int(leadingcoff(g)), p)) % p\n",
    "        t = coeff * monomial_k(deg(r) - deg(g))\n",
    "\n",
    "        q_new = q + t\n",
    "        r_new = r - t * g\n",
    "\n",
    "        q = ZtoFq(q_new, p)\n",
    "        r = ZtoFq(r_new, p)\n",
    "\n",
    "    return (q, r)\n",
    "\n"
   ]
  },
  {
   "cell_type": "code",
   "execution_count": 75,
   "metadata": {},
   "outputs": [
    {
     "data": {
      "text/plain": [
       "(poly1d([1., 1., 2., 3.]), poly1d([0.]))"
      ]
     },
     "execution_count": 75,
     "metadata": {},
     "output_type": "execute_result"
    }
   ],
   "source": [
    "polydiv(poly([1, 3, 4, 2, 1]), poly([1,2]), 5)"
   ]
  },
  {
   "cell_type": "code",
   "execution_count": 76,
   "metadata": {},
   "outputs": [
    {
     "data": {
      "text/plain": [
       "poly1d([0.])"
      ]
     },
     "execution_count": 76,
     "metadata": {},
     "output_type": "execute_result"
    }
   ],
   "source": [
    "fasterquotientmap(poly([1,3,4,2,1]), poly([1,2]), 5)"
   ]
  },
  {
   "cell_type": "code",
   "execution_count": 38,
   "metadata": {},
   "outputs": [
    {
     "data": {
      "text/plain": [
       "poly1d([2, 4, 6])"
      ]
     },
     "execution_count": 38,
     "metadata": {},
     "output_type": "execute_result"
    }
   ],
   "source": [
    "2*poly([1,2,3])"
   ]
  },
  {
   "cell_type": "markdown",
   "metadata": {},
   "source": [
    "# Finite Field Tools"
   ]
  },
  {
   "cell_type": "code",
   "execution_count": 156,
   "metadata": {},
   "outputs": [],
   "source": [
    "import math\n",
    "\n",
    "# Applies the Euclidean Algorithm to compute the gcd of polynomials f and g in Z/pZ[x]\n",
    "def gcdfinder(f, g, p):\n",
    "    r0 = f\n",
    "    r1 = g\n",
    "    u0 = poly([1])\n",
    "    v0 = poly([0])\n",
    "    u1 = poly([0])\n",
    "    v1 = poly([1])\n",
    "\n",
    "    while (r1 != poly([0])):\n",
    "        quot = polydiv(r0, r1, p)[0]\n",
    "\n",
    "        R = ZtoFq(-quot * r1 + r0, p)\n",
    "        r0 = r1\n",
    "        r1 = R\n",
    "\n",
    "        U = ZtoFq(-quot * u1 + u0, p)\n",
    "        u0 = u1\n",
    "        u1 = U\n",
    "\n",
    "        V = ZtoFq(-quot * v1 + v0, p)\n",
    "        v0 = v1\n",
    "        v1 = V\n",
    "\n",
    "    return (u0, v0, r0)\n",
    "\n",
    "#Computes the inverse of x in Z/pZ\n",
    "def inverse(x, p):\n",
    "    inv = 1\n",
    "    for k in range(1, p):\n",
    "        if (k*x % p == 1):\n",
    "            inv = k\n",
    "    return inv\n",
    "\n",
    "#INPUT: polynomial g in Z/pZ[x]\n",
    "#OUTPUT: a monic polynomial g' such that (g) = (g') in Z/pZ[x]\n",
    "def makemonic(g, p):\n",
    "    f = inverse(leadingcoff(g), p)*g\n",
    "    return ZtoFq(f, p)\n",
    "\n",
    "#Brute force irreducibility checker for polynomials in Z/pZ[x]\n",
    "def irreducible(f, p):\n",
    "    \n",
    "    d = deg(f)\n",
    "        \n",
    "    for poly in lstofpolynomials(p, d):\n",
    "        \n",
    "        if deg(np.poly1d(poly)) == 0:\n",
    "            \n",
    "            continue\n",
    "        \n",
    "        if polydiv(f, np.poly1d(poly), p)[1] == np.poly1d([0]):\n",
    "            \n",
    "            return False\n",
    "    \n",
    "    return True"
   ]
  },
  {
   "cell_type": "code",
   "execution_count": 163,
   "metadata": {},
   "outputs": [
    {
     "data": {
      "text/plain": [
       "False"
      ]
     },
     "execution_count": 163,
     "metadata": {},
     "output_type": "execute_result"
    }
   ],
   "source": [
    "irreducible(poly([1, 1,3]), 5)"
   ]
  },
  {
   "cell_type": "code",
   "execution_count": 161,
   "metadata": {},
   "outputs": [
    {
     "data": {
      "text/plain": [
       "True"
      ]
     },
     "execution_count": 161,
     "metadata": {},
     "output_type": "execute_result"
    }
   ],
   "source": [
    "polydiv(poly([2, 2, 12, 0]), poly([1, 0]), 13)[1] == np.poly1d([0])"
   ]
  },
  {
   "cell_type": "code",
   "execution_count": 148,
   "metadata": {},
   "outputs": [
    {
     "data": {
      "text/plain": [
       "[(0, 0),\n",
       " (0, 1),\n",
       " (0, 2),\n",
       " (0, 3),\n",
       " (0, 4),\n",
       " (0, 5),\n",
       " (0, 6),\n",
       " (0, 7),\n",
       " (0, 8),\n",
       " (0, 9),\n",
       " (0, 10),\n",
       " (0, 11),\n",
       " (0, 12),\n",
       " (1, 0),\n",
       " (1, 1),\n",
       " (1, 2),\n",
       " (1, 3),\n",
       " (1, 4),\n",
       " (1, 5),\n",
       " (1, 6),\n",
       " (1, 7),\n",
       " (1, 8),\n",
       " (1, 9),\n",
       " (1, 10),\n",
       " (1, 11),\n",
       " (1, 12),\n",
       " (2, 0),\n",
       " (2, 1),\n",
       " (2, 2),\n",
       " (2, 3),\n",
       " (2, 4),\n",
       " (2, 5),\n",
       " (2, 6),\n",
       " (2, 7),\n",
       " (2, 8),\n",
       " (2, 9),\n",
       " (2, 10),\n",
       " (2, 11),\n",
       " (2, 12),\n",
       " (3, 0),\n",
       " (3, 1),\n",
       " (3, 2),\n",
       " (3, 3),\n",
       " (3, 4),\n",
       " (3, 5),\n",
       " (3, 6),\n",
       " (3, 7),\n",
       " (3, 8),\n",
       " (3, 9),\n",
       " (3, 10),\n",
       " (3, 11),\n",
       " (3, 12),\n",
       " (4, 0),\n",
       " (4, 1),\n",
       " (4, 2),\n",
       " (4, 3),\n",
       " (4, 4),\n",
       " (4, 5),\n",
       " (4, 6),\n",
       " (4, 7),\n",
       " (4, 8),\n",
       " (4, 9),\n",
       " (4, 10),\n",
       " (4, 11),\n",
       " (4, 12),\n",
       " (5, 0),\n",
       " (5, 1),\n",
       " (5, 2),\n",
       " (5, 3),\n",
       " (5, 4),\n",
       " (5, 5),\n",
       " (5, 6),\n",
       " (5, 7),\n",
       " (5, 8),\n",
       " (5, 9),\n",
       " (5, 10),\n",
       " (5, 11),\n",
       " (5, 12),\n",
       " (6, 0),\n",
       " (6, 1),\n",
       " (6, 2),\n",
       " (6, 3),\n",
       " (6, 4),\n",
       " (6, 5),\n",
       " (6, 6),\n",
       " (6, 7),\n",
       " (6, 8),\n",
       " (6, 9),\n",
       " (6, 10),\n",
       " (6, 11),\n",
       " (6, 12),\n",
       " (7, 0),\n",
       " (7, 1),\n",
       " (7, 2),\n",
       " (7, 3),\n",
       " (7, 4),\n",
       " (7, 5),\n",
       " (7, 6),\n",
       " (7, 7),\n",
       " (7, 8),\n",
       " (7, 9),\n",
       " (7, 10),\n",
       " (7, 11),\n",
       " (7, 12),\n",
       " (8, 0),\n",
       " (8, 1),\n",
       " (8, 2),\n",
       " (8, 3),\n",
       " (8, 4),\n",
       " (8, 5),\n",
       " (8, 6),\n",
       " (8, 7),\n",
       " (8, 8),\n",
       " (8, 9),\n",
       " (8, 10),\n",
       " (8, 11),\n",
       " (8, 12),\n",
       " (9, 0),\n",
       " (9, 1),\n",
       " (9, 2),\n",
       " (9, 3),\n",
       " (9, 4),\n",
       " (9, 5),\n",
       " (9, 6),\n",
       " (9, 7),\n",
       " (9, 8),\n",
       " (9, 9),\n",
       " (9, 10),\n",
       " (9, 11),\n",
       " (9, 12),\n",
       " (10, 0),\n",
       " (10, 1),\n",
       " (10, 2),\n",
       " (10, 3),\n",
       " (10, 4),\n",
       " (10, 5),\n",
       " (10, 6),\n",
       " (10, 7),\n",
       " (10, 8),\n",
       " (10, 9),\n",
       " (10, 10),\n",
       " (10, 11),\n",
       " (10, 12),\n",
       " (11, 0),\n",
       " (11, 1),\n",
       " (11, 2),\n",
       " (11, 3),\n",
       " (11, 4),\n",
       " (11, 5),\n",
       " (11, 6),\n",
       " (11, 7),\n",
       " (11, 8),\n",
       " (11, 9),\n",
       " (11, 10),\n",
       " (11, 11),\n",
       " (11, 12),\n",
       " (12, 0),\n",
       " (12, 1),\n",
       " (12, 2),\n",
       " (12, 3),\n",
       " (12, 4),\n",
       " (12, 5),\n",
       " (12, 6),\n",
       " (12, 7),\n",
       " (12, 8),\n",
       " (12, 9),\n",
       " (12, 10),\n",
       " (12, 11),\n",
       " (12, 12)]"
      ]
     },
     "execution_count": 148,
     "metadata": {},
     "output_type": "execute_result"
    }
   ],
   "source": [
    "lstofpolynomials(13, 2)"
   ]
  },
  {
   "cell_type": "markdown",
   "metadata": {},
   "source": [
    "# Random Generator Tools"
   ]
  },
  {
   "cell_type": "code",
   "execution_count": 164,
   "metadata": {},
   "outputs": [],
   "source": [
    "import random as rnd\n",
    "\n",
    "\n",
    "#Generates a random polynomial of degree d in Z/pZ[x]\n",
    "def randompoly(d, p):\n",
    "    \n",
    "    lst = [rnd.randint(1, p-1)]\n",
    "    \n",
    "    for l in range(1, d+1):\n",
    "        \n",
    "        lst.append(rnd.randint(0, p-1))\n",
    "    \n",
    "    return np.poly1d(lst)\n",
    "\n",
    "#Generates a random irreducible polynomial of degree d in Z/pZ[x]\n",
    "def randomirreducible(d, p):\n",
    "    \n",
    "    f = randompoly(d, p)\n",
    "    \n",
    "    while irreducible(f, p) == False:\n",
    "        \n",
    "        f = randompoly(d, p)\n",
    "    \n",
    "    return f\n"
   ]
  },
  {
   "cell_type": "code",
   "execution_count": 106,
   "metadata": {},
   "outputs": [
    {
     "data": {
      "text/plain": [
       "poly1d([2, 0, 2, 5, 2])"
      ]
     },
     "execution_count": 106,
     "metadata": {},
     "output_type": "execute_result"
    }
   ],
   "source": [
    "randomirreducible(4, 7)"
   ]
  },
  {
   "cell_type": "markdown",
   "metadata": {},
   "source": [
    "# Legendre Symbol"
   ]
  },
  {
   "cell_type": "code",
   "execution_count": 107,
   "metadata": {},
   "outputs": [],
   "source": [
    "from sympy.ntheory import legendre_symbol\n",
    "\n",
    "def legendresymbol(f, h, p):\n",
    "    \n",
    "    legsym = 1\n",
    "    h = makemonic(h, p)\n",
    "    \n",
    "    while True:\n",
    "        \n",
    "        f = fasterquotientmap(f, h, p)\n",
    "        \n",
    "        if (f == poly([0])):\n",
    "            return 0\n",
    "        \n",
    "        c = leadingcoff(f)\n",
    "        \n",
    "        if (deg(f) == 0):    \n",
    "            return (legendre_symbol(int(c), p)**(deg(h)))*legsym\n",
    "        \n",
    "        f = ZtoFq(inverse(c, p)*f, p)\n",
    "        \n",
    "        if (((p-1)/2) % 2 == 1) and (deg(f) % 2 == 1) and (deg(h) % 2 == 1):\n",
    "            \n",
    "            legsym = -legendre_symbol(int(c), p)**(deg(h))*legsym\n",
    "            \n",
    "        else:\n",
    "            \n",
    "            legsym = legendre_symbol(int(c), p)**(deg(h))*legsym\n",
    "            \n",
    "        G = h\n",
    "        h = f\n",
    "        f = G\n",
    "   "
   ]
  },
  {
   "cell_type": "markdown",
   "metadata": {},
   "source": [
    "# Brute Force Legendre Symbol"
   ]
  },
  {
   "cell_type": "code",
   "execution_count": 108,
   "metadata": {},
   "outputs": [],
   "source": [
    "#Computes the set of squares in the quotient ring F_p[T]/(g) where deg(g) = d (Only works for q = p prime and odd)\n",
    "#This code also requires that g is monic or else the image under the quotient map will get... weird\n",
    "#For convenience, g will be become a monic polynomial that generates the same ideal as g\n",
    "def lstofsquares(g, p):\n",
    "    \n",
    "    g = makemonic(g, p)\n",
    "    \n",
    "    d = deg(g)\n",
    "    \n",
    "    lst = lstofpolynomials(p, d)\n",
    "    \n",
    "    sqlst = []\n",
    "    \n",
    "    for poly in lst:\n",
    "        \n",
    "        f = fasterquotientmap(np.poly1d(poly)*np.poly1d(poly), g, p)\n",
    "\n",
    "        sqlst.append(list(f.c))\n",
    "    \n",
    "    #This line of code erases duplicate entries in the list of squares\n",
    "    sqlst = [k for k,v in itertools.groupby(sorted(sqlst))]\n",
    "        \n",
    "    return sqlst\n",
    "\n",
    "#WARNING: This method only works for irreducible g.\n",
    "#Remember that the Legendre symbol defined as f = square mod g works for g irreducible.\n",
    "#When g is not, we are working with the Jacobi symbol which does not have the same residue meaning as the\n",
    "#Legendre symbol! i.e. (f/g) = 1 does not imply that f = square mod g\n",
    "def bruteforcelegendrecomputation(f, g, p):\n",
    "    \n",
    "    g = makemonic(g, p)\n",
    "    f = fasterquotientmap(f, g, p)\n",
    "    f_coeff = list(f.c)\n",
    "    \n",
    "    if f_coeff == [0]:\n",
    "        \n",
    "        return 0\n",
    "    \n",
    "    if (f_coeff in lstofsquares(g, p)) == True:\n",
    "        \n",
    "        return 1\n",
    "    \n",
    "    if (f_coeff in lstofsquares(g, p)) == False:\n",
    "        \n",
    "        return -1\n",
    "        "
   ]
  },
  {
   "cell_type": "markdown",
   "metadata": {},
   "source": [
    "# Legendre Symbol Verifier"
   ]
  },
  {
   "cell_type": "code",
   "execution_count": 165,
   "metadata": {},
   "outputs": [],
   "source": [
    "#Performs n random tests of the Legendre symbol between two polynomials of at most degree d\n",
    "#Compares outputs of Legendresymbol function and bruteforcelegendrecomputation function\n",
    "def testlegendresymbol(n, d):\n",
    "    \n",
    "    k = 0\n",
    "    primes = [3, 5, 7, 11, 13, 17, 19, 23]\n",
    "    \n",
    "    while k < n:\n",
    "        \n",
    "        p = primes[rnd.randint(0, 7)]\n",
    "        \n",
    "        deg1 = rnd.randint(0, d)\n",
    "        deg2 = rnd.randint(1, d)\n",
    "        \n",
    "        f = randompoly(deg1, p)\n",
    "        print(f)\n",
    "        \n",
    "        g = randomirreducible(deg2, p)\n",
    "        print(g)\n",
    "        print(irreducible(g, p))\n",
    "        \n",
    "        print(p)\n",
    "        print(legendresymbol(f, g, p))\n",
    "        print(bruteforcelegendrecomputation(f, g, p))\n",
    "        print(legendresymbol(f, g, p) == bruteforcelegendrecomputation(f, g, p))\n",
    "            \n",
    "        k = k + 1\n",
    "    "
   ]
  },
  {
   "cell_type": "code",
   "execution_count": null,
   "metadata": {},
   "outputs": [
    {
     "name": "stdout",
     "output_type": "stream",
     "text": [
      " \n",
      "1\n",
      " \n",
      "2 x\n",
      "True\n",
      "3\n",
      "1\n",
      "1\n",
      "True\n",
      "   4     3     2\n",
      "7 x + 5 x + 9 x + 12 x + 10\n",
      "    3     2\n",
      "15 x + 6 x + 9 x + 10\n",
      "True\n",
      "17\n",
      "1\n",
      "1\n",
      "True\n",
      "   5     4     3     2\n",
      "8 x + 3 x + 9 x + 6 x + 1 x + 6\n",
      " \n",
      "2 x + 9\n",
      "True\n",
      "13\n",
      "-1\n",
      "-1\n",
      "True\n",
      " \n",
      "4\n",
      "    3     2\n",
      "10 x + 3 x + 12 x + 11\n",
      "True\n",
      "13\n",
      "1\n",
      "1\n",
      "True\n",
      "   4     2\n",
      "4 x + 2 x + 4 x + 3\n",
      "   3     2\n",
      "2 x + 1 x + 4 x + 1\n",
      "True\n",
      "5\n",
      "1\n",
      "1\n",
      "True\n",
      "   2\n",
      "2 x + 2 x + 4\n",
      " \n",
      "1 x + 2\n",
      "True\n",
      "7\n",
      "1\n",
      "1\n",
      "True\n",
      "   5     4     3     2\n",
      "1 x + 9 x + 2 x + 8 x + 7 x + 7\n",
      "   3     2\n",
      "5 x + 3 x + 8 x + 5\n",
      "True\n",
      "11\n",
      "-1\n",
      "-1\n",
      "True\n",
      " \n",
      "13 x + 2\n",
      "   5      4      3      2\n",
      "7 x + 14 x + 15 x + 10 x + 8 x + 17\n",
      "True\n",
      "23\n",
      "-1\n"
     ]
    }
   ],
   "source": [
    "testlegendresymbol(30, 6)"
   ]
  },
  {
   "cell_type": "code",
   "execution_count": null,
   "metadata": {},
   "outputs": [],
   "source": []
  }
 ],
 "metadata": {
  "kernelspec": {
   "display_name": "Python 3",
   "language": "python",
   "name": "python3"
  },
  "language_info": {
   "codemirror_mode": {
    "name": "ipython",
    "version": 3
   },
   "file_extension": ".py",
   "mimetype": "text/x-python",
   "name": "python",
   "nbconvert_exporter": "python",
   "pygments_lexer": "ipython3",
   "version": "3.7.3"
  }
 },
 "nbformat": 4,
 "nbformat_minor": 2
}
