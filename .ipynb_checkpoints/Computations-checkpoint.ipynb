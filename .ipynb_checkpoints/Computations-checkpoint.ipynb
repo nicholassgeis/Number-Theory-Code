{
 "cells": [
  {
   "cell_type": "markdown",
   "metadata": {},
   "source": [
    "# Algebra Code"
   ]
  },
  {
   "cell_type": "markdown",
   "metadata": {},
   "source": [
    "Here we will develop a necessary computer algebra package in order to handle reduction in a quotient field. We will use the polynomial package in numpy"
   ]
  },
  {
   "cell_type": "code",
   "execution_count": 7,
   "metadata": {},
   "outputs": [],
   "source": [
    "import numpy as np\n",
    "\n",
    "\n",
    "\n",
    "#Example polynomials\n",
    "f = np.poly1d([1,2,3])\n",
    "g = np.poly1d([2,3,4])\n",
    "\n",
    "\n",
    "\n",
    "#Easier to read polynomial function\n",
    "def poly(lst):\n",
    "    \n",
    "    return np.poly1d(lst)\n",
    "\n",
    "\n",
    "\n",
    "#To extract coefficients, use:\n",
    "coeff_f = f.c\n",
    "coeff_g = g.c\n",
    "#Or if you want the k-th coefficient corresponding to x^k, use: f[k]\n",
    "\n",
    "\n",
    "    \n",
    "#To extract the degree of the polynomial, use:\n",
    "def deg(poly):  \n",
    "    return poly.order\n",
    "\n",
    "\n",
    "\n",
    "#Takes polynomials from Z[x] into F_q[x]\n",
    "#INPUT: polynomial in Z[x]\n",
    "#OUTPUT: polynomial in F_q[x]\n",
    "def ZtoFq(poly, q):\n",
    "    \n",
    "    new_coeff = []\n",
    "    d = deg(poly)\n",
    "    \n",
    "    for k in range(0, d + 1):\n",
    "        \n",
    "        new_coeff.append((poly[d - k] % q))  \n",
    "        \n",
    "    return np.poly1d(new_coeff)\n",
    "\n",
    "\n",
    "\n",
    "#x^k generator\n",
    "#INPUT: k\n",
    "#OUTPUT: x^k\n",
    "def monomial_k(k):\n",
    "    \n",
    "    lst = []\n",
    "    \n",
    "    for i in range(0, k+1):\n",
    "        \n",
    "        if i != 0:\n",
    "            lst.append(0)\n",
    "            \n",
    "        else:\n",
    "            lst.append(1)\n",
    "            \n",
    "    return poly(lst)\n",
    "\n",
    "\n",
    "\n",
    "#Let g(x) = x^n + a_{n-1} x^{n-1} + ... + a_1 x + a_0 be a polynomial in F_q[x]. Then in the quotient ring\n",
    "#F_q[x]/(g(x)), we have that g(x) = 0. In other words, we get the rule that x^n = -a_{n-1} x^{n-1} - ... - a_1 x - a_0.\n",
    "#This function generates that rule.\n",
    "#INPUT: polynomial g(x)\n",
    "#OUTPUT: rule for x^n\n",
    "def rulegenerator(g):\n",
    "    \n",
    "    return poly([ -g[deg(g) - k] for k in range(1, deg(g) + 1)])"
   ]
  },
  {
   "cell_type": "code",
   "execution_count": 3,
   "metadata": {},
   "outputs": [],
   "source": [
    "#Take a polynomial say f(x) in F_q[x] and take f(x) to a polynomial in F_q[x]/g(x) for some g(x) under the usual\n",
    "#quotient map.\n",
    "\n",
    "#INPUT: Some polynomial f\n",
    "#OUTPUT: A representation of a polynomial in the quotient ring, i.e. \\overline{f} \\in F_q[x]/g(x).\n",
    "\n",
    "def quotientmap(f, g, q):\n",
    "    \n",
    "    #These variables up f and g into F_q[x]\n",
    "    new_f = ZtoFq(f, q)\n",
    "    q_g = ZtoFq(g, q)\n",
    "    \n",
    "    #These variables define the degree of g(x) and the rule made by g(x) in F_q[x]/(g(x)).\n",
    "    d = deg(q_g)\n",
    "    rule_poly = rulegenerator(q_g)\n",
    "    \n",
    "\n",
    "    while deg(new_f) >= deg(q_g):\n",
    "        \n",
    "        h = poly([0])\n",
    "        \n",
    "        for k in range(0, deg(new_f)+1):\n",
    "            \n",
    "            if k < d:\n",
    "                \n",
    "                h = h + (new_f[k]*monomial_k(k))\n",
    "                \n",
    "            else:\n",
    "                \n",
    "                h = h +  new_f[k]*(rule_poly*monomial_k(k - d))\n",
    "                \n",
    "        new_f = h\n",
    "        \n",
    "    return ZtoFq(new_f, q)\n",
    "\n",
    "#I'm stupid. I'm so stupid\n",
    "def fasterquotientmap(f, g, q):\n",
    "    \n",
    "    f = np.poly1d(np.polydiv(f, g)[1])\n",
    "    \n",
    "    return ZtoFq(f,q)\n",
    "    "
   ]
  },
  {
   "cell_type": "code",
   "execution_count": 8,
   "metadata": {},
   "outputs": [],
   "source": [
    "p = np.poly1d([1,1,1])\n",
    "q = np.poly1d([1,1,1])"
   ]
  },
  {
   "cell_type": "code",
   "execution_count": 14,
   "metadata": {},
   "outputs": [
    {
     "data": {
      "text/plain": [
       "poly1d([2, 2, 2])"
      ]
     },
     "execution_count": 14,
     "metadata": {},
     "output_type": "execute_result"
    }
   ],
   "source": [
    "2*p"
   ]
  },
  {
   "cell_type": "code",
   "execution_count": 6,
   "metadata": {},
   "outputs": [
    {
     "data": {
      "text/plain": [
       "2"
      ]
     },
     "execution_count": 6,
     "metadata": {},
     "output_type": "execute_result"
    }
   ],
   "source": [
    "deg(q)"
   ]
  },
  {
   "cell_type": "code",
   "execution_count": 7,
   "metadata": {},
   "outputs": [],
   "source": [
    "import itertools\n",
    "\n",
    "#Generates list of all possible lists of polynomial coefficients in Z/pZ with degree strictly less than d\n",
    "def lstofpolynomials(p, d):\n",
    "    \n",
    "    lst = []\n",
    "    \n",
    "    for coeffs in itertools.product(range(p), repeat = d):\n",
    "        lst.append(coeffs)\n",
    "\n",
    "    return lst\n",
    "\n",
    "#Computes the set of squares in the quotient ring F_p[T]/(g) where deg(g) = d (Only works for q = p prime and odd)\n",
    "def lstofsquares(p, g):\n",
    "    \n",
    "    d = deg(g)\n",
    "    \n",
    "    lst = lstofpolynomials(p, d)\n",
    "    \n",
    "    sqlst = []\n",
    "    \n",
    "    for poly in lst:\n",
    "        \n",
    "        f = fasterquotientmap(np.poly1d(poly)*np.poly1d(poly), g, p)\n",
    "\n",
    "        sqlst.append(list(f.c))\n",
    "    \n",
    "    #This line of code erases duplicate entries in the list of squares\n",
    "    sqlst = [k for k,v in itertools.groupby(sorted(sqlst))]\n",
    "        \n",
    "    return sqlst\n",
    "\n",
    "def numofsquares(p, g):\n",
    "    \n",
    "    return len(lstofsquares(p, g))"
   ]
  },
  {
   "cell_type": "code",
   "execution_count": 8,
   "metadata": {},
   "outputs": [],
   "source": [
    "import math\n",
    "#Brute force irreducibility checker for polynomials in Z/pZ[x]\n",
    "\n",
    "def irreducible(f, p):\n",
    "    \n",
    "    d = deg(f)\n",
    "        \n",
    "    for poly in lstofpolynomials(p, d):\n",
    "        \n",
    "        if deg(np.poly1d(poly)) == 0:\n",
    "            \n",
    "            continue\n",
    "        \n",
    "        if np.polydiv(f, np.poly1d(poly))[1] == np.poly1d([0]):\n",
    "            \n",
    "            return (False, poly)\n",
    "    \n",
    "    return True"
   ]
  },
  {
   "cell_type": "code",
   "execution_count": 9,
   "metadata": {},
   "outputs": [
    {
     "data": {
      "text/plain": [
       "(False, (0, 1, 1))"
      ]
     },
     "execution_count": 9,
     "metadata": {},
     "output_type": "execute_result"
    }
   ],
   "source": [
    "irreducible(np.poly1d([1,2,2,1]), 5)"
   ]
  },
  {
   "cell_type": "code",
   "execution_count": 10,
   "metadata": {},
   "outputs": [
    {
     "data": {
      "text/plain": [
       "[[0.0],\n",
       " [1.0],\n",
       " [1.0, 0.0],\n",
       " [1.0, 0.0, 0.0],\n",
       " [1.0, 1.0],\n",
       " [1.0, 1.0, 0.0],\n",
       " [1.0, 1.0, 1.0],\n",
       " [1.0, 1.0, 4.0],\n",
       " [1.0, 2.0, 1.0],\n",
       " [1.0, 2.0, 2.0],\n",
       " [1.0, 3.0, 1.0],\n",
       " [1.0, 3.0, 3.0],\n",
       " [1.0, 4.0, 4.0],\n",
       " [2.0, 0.0, 2.0],\n",
       " [2.0, 2.0],\n",
       " [2.0, 2.0, 0.0],\n",
       " [2.0, 2.0, 1.0],\n",
       " [2.0, 2.0, 4.0],\n",
       " [2.0, 3.0, 2.0],\n",
       " [2.0, 4.0, 2.0],\n",
       " [3.0, 0.0, 3.0],\n",
       " [3.0, 1.0, 3.0],\n",
       " [3.0, 2.0, 3.0],\n",
       " [3.0, 3.0],\n",
       " [3.0, 3.0, 0.0],\n",
       " [3.0, 3.0, 1.0],\n",
       " [3.0, 3.0, 4.0],\n",
       " [4.0],\n",
       " [4.0, 0.0],\n",
       " [4.0, 0.0, 0.0],\n",
       " [4.0, 1.0, 1.0],\n",
       " [4.0, 2.0, 2.0],\n",
       " [4.0, 2.0, 4.0],\n",
       " [4.0, 3.0, 3.0],\n",
       " [4.0, 3.0, 4.0],\n",
       " [4.0, 4.0],\n",
       " [4.0, 4.0, 0.0],\n",
       " [4.0, 4.0, 1.0],\n",
       " [4.0, 4.0, 4.0]]"
      ]
     },
     "execution_count": 10,
     "metadata": {},
     "output_type": "execute_result"
    }
   ],
   "source": [
    "lstofsquares(5, np.poly1d([1,2,2,1]))"
   ]
  },
  {
   "cell_type": "code",
   "execution_count": 54,
   "metadata": {
    "scrolled": true
   },
   "outputs": [],
   "source": [
    "import random as rnd\n",
    "\n",
    "def randompoly(d, k):\n",
    "    \n",
    "    lst = [rnd.randint(1, k)]\n",
    "    \n",
    "    for l in range(1, d):\n",
    "        \n",
    "        lst.append(rnd.randint(0, k))\n",
    "    \n",
    "    return np.poly1d(lst)\n",
    "\n",
    "#RANDOM QUOTIENT TESTER\n",
    "\n",
    "def random_quotient_test():\n",
    "    \n",
    "    poss_q_values = [3, 5, 7, 9, 25, 27, 49]\n",
    "    \n",
    "    for i in range(0, 5):\n",
    "        \n",
    "        q = poss_q_values[rnd.randint(0, 6)]\n",
    "        \n",
    "        f = randompoly(rnd.randint(2, 10), 25)\n",
    "        \n",
    "        g = randompoly(rnd.randint(2, 10), 25)\n",
    "        \n",
    "        h = quotientmap(f, g, q)\n",
    "        \n",
    "        print(\"f =\")\n",
    "        print(f)\n",
    "        print(\"g =\")\n",
    "        print(g)\n",
    "        print(\"h =\")\n",
    "        print(h)"
   ]
  },
  {
   "cell_type": "markdown",
   "metadata": {},
   "source": [
    "# Legendre Symbol"
   ]
  },
  {
   "cell_type": "markdown",
   "metadata": {},
   "source": [
    "   Let $\\mathbb{F}_q$ be a finite field with characteristic $p$ and let $D(x) \\in \\mathbb{F}_q[x]$ be a monic polynomial of degree $d.$ Let $R$ be the ring defined as\n",
    "\n",
    "$$R : = \\left\\{ a(x) + b(x) \\sqrt{D(x)} \\ : \\ a(x), b(x) \\in \\mathbb{F}_q[x] \\right\\}.$$\n",
    "\n",
    "Let $P(x)$ be an irreducible polynomial in $\\mathbb{F}_q[x]$ and $a(x) \\in \\mathbb{F}_q[x]$. Then we define the *Legendre Symbol* as\n",
    "\n",
    "$$\n",
    "\\left( \\frac{a(x)}{P(x)} \\right) : =\n",
    "\\begin{cases}\n",
    "1, & \\text{if } P(x) \\nmid a(x) \\text{ and } a(x) \\text{ is a square modulo } P(x), \\\\\n",
    "-1, & \\text{if } P(x) \\nmid a(x) \\text{ and } a(x) \\text{ is not a square modulo } P(x), \\\\\n",
    "0, & \\text{if } P(x) \\mid a(x).\n",
    "\\end{cases}\n",
    "$$\n",
    "\n",
    "We also have an analog to the *Jacobi Symbol* with\n",
    "\n",
    "$$\\left( \\frac{a(x)}{b(x)} \\right) = \\prod_{j = 1}^r \\left( \\frac{a(x)}{Q_j(x)} \\right)^{\\alpha_j}$$\n",
    "\n",
    "where $a(x), b(x) \\in \\mathbb{F}_q[x]$ and $b(x) = Q_1(x)^{\\alpha_1} \\cdots Q_r(x)^{\\alpha_r}.$\n",
    "\n",
    "Furthermore, we have the quadratic reciprocity law for $a(x), b(x) \\in \\mathbb{F}_q[x]$, relatively prime, non-zero and monic\n",
    "\n",
    "$$\\left(\\frac{a(x)}{b(x)} \\right) \\left( \\frac{b(x)}{a(x)} \\right) = (-1)^{\\frac{|a| - 1}{2} \\frac{|b| - 1}{2}} = (-1)^{\\frac{q-1}{2} \\text{deg} a(x) \\cdot \\text{deg} b(x)}$$\n",
    "\n",
    "where $|f(x)| = q^{\\text{deg}f}.$"
   ]
  },
  {
   "cell_type": "markdown",
   "metadata": {},
   "source": [
    "# Necessary Code - Legendre Symbol in Z/pZ[x]"
   ]
  },
  {
   "cell_type": "code",
   "execution_count": 1,
   "metadata": {},
   "outputs": [],
   "source": [
    "import numpy as np\n",
    "from sympy.ntheory import legendre_symbol\n",
    "\n",
    "#Easier to read polynomial function\n",
    "def poly(lst):\n",
    "    \n",
    "    return np.poly1d(lst)\n",
    "\n",
    "#To extract the degree of the polynomial, use:\n",
    "def deg(poly):  \n",
    "    return poly.order\n",
    "\n",
    "#To extract the leading coefficient of the polynomial:\n",
    "def leadingcoff(poly):\n",
    "    return poly.c[0]\n",
    "\n",
    "#Takes polynomials from Z[x] into F_q[x]\n",
    "#INPUT: polynomial in Z[x]\n",
    "#OUTPUT: polynomial in F_q[x]\n",
    "def ZtoFq(poly, q):\n",
    "    \n",
    "    new_coeff = []\n",
    "    d = deg(poly)\n",
    "    \n",
    "    for k in range(0, d + 1):\n",
    "        \n",
    "        new_coeff.append((poly[d - k] % q))  \n",
    "        \n",
    "    return np.poly1d(new_coeff)\n",
    "\n",
    "#I'm stupid. I'm so stupid\n",
    "def fasterquotientmap(f, g, q):\n",
    "    \n",
    "    f = np.poly1d(np.polydiv(f, g)[1])\n",
    "    \n",
    "    return ZtoFq(f,q)\n",
    "\n",
    "# Applies the Euclidean Algorithm to compute the gcd of two polynomials\n",
    "def gcdfinder(f, g, p):\n",
    "    r0 = f\n",
    "    r1 = g\n",
    "    u0 = poly([1])\n",
    "    v0 = poly([0])\n",
    "    u1 = poly([0])\n",
    "    v1 = poly([1])\n",
    "\n",
    "    while (r1 != poly([0])):\n",
    "        pol = np.polydiv(r0, r1)[0]\n",
    "        quot = ZtoFq(pol, p)\n",
    "\n",
    "        R = ZtoFq(-quot * r1 + r0, p)\n",
    "        r0 = r1\n",
    "        r1 = R\n",
    "\n",
    "        U = ZtoFq(-quot * u1 + u0, p)\n",
    "        u0 = u1\n",
    "        u1 = U\n",
    "\n",
    "        V = ZtoFq(-quot * v1 + v0, p)\n",
    "        v0 = v1\n",
    "        v1 = V\n",
    "\n",
    "    return (u0, v0, r0)\n",
    "\n",
    "#Checks for relative primality\n",
    "def relativeprime(f, g, p):\n",
    "    return (poly([1])==gcdfinder(f, g, p)[2])\n",
    "\n",
    "#Computes the inverse of x in Z/pZ\n",
    "def inverse(x, p):\n",
    "    inv = 1\n",
    "    for k in range(1, p):\n",
    "        if (k*x % p == 1):\n",
    "            inv = k\n",
    "    return inv\n",
    "\n",
    "#Requires g monic\n",
    "def legendresymbol(f, g, p):\n",
    "    \n",
    "    legsym = 1\n",
    "    \n",
    "    while True:\n",
    "        \n",
    "        f = fasterquotientmap(f, g, p)\n",
    "        \n",
    "        if (f == poly([0])):\n",
    "            return 0\n",
    "        \n",
    "        c = leadingcoff(f)\n",
    "        \n",
    "        if (deg(f) == 0):    \n",
    "            return (legendre_symbol(int(c), p)**(deg(g)))*legsym\n",
    "        \n",
    "        f = ZtoFq(inverse(c, p)*f, p)\n",
    "        \n",
    "        if (((p-1)/2) % 2 == 1) and (deg(f) % 2 == 1) and (deg(g) % 2 == 1):\n",
    "            \n",
    "            legsym = -legendre_symbol(int(c), p)**(deg(g))*legsym\n",
    "            \n",
    "        else:\n",
    "            \n",
    "            legsym = legendre_symbol(int(c), p)**(deg(g))*legsym\n",
    "            \n",
    "        G = g\n",
    "        g = f\n",
    "        f = G\n",
    "    "
   ]
  },
  {
   "cell_type": "code",
   "execution_count": 27,
   "metadata": {},
   "outputs": [
    {
     "data": {
      "text/plain": [
       "1"
      ]
     },
     "execution_count": 27,
     "metadata": {},
     "output_type": "execute_result"
    }
   ],
   "source": [
    "legendresymbol(poly([1,-1,-1]), poly([1, 1, 0, -1]), 3)"
   ]
  },
  {
   "cell_type": "code",
   "execution_count": 22,
   "metadata": {},
   "outputs": [
    {
     "data": {
      "text/plain": [
       "int"
      ]
     },
     "execution_count": 22,
     "metadata": {},
     "output_type": "execute_result"
    }
   ],
   "source": [
    "type(int(leadingcoff(poly([2,3,3]))))"
   ]
  },
  {
   "cell_type": "code",
   "execution_count": null,
   "metadata": {},
   "outputs": [],
   "source": []
  }
 ],
 "metadata": {
  "kernelspec": {
   "display_name": "Python 3",
   "language": "python",
   "name": "python3"
  },
  "language_info": {
   "codemirror_mode": {
    "name": "ipython",
    "version": 3
   },
   "file_extension": ".py",
   "mimetype": "text/x-python",
   "name": "python",
   "nbconvert_exporter": "python",
   "pygments_lexer": "ipython3",
   "version": "3.7.3"
  }
 },
 "nbformat": 4,
 "nbformat_minor": 2
}
