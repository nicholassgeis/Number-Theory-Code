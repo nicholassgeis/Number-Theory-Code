{
 "cells": [
  {
   "cell_type": "markdown",
   "metadata": {},
   "source": [
    "# Polynomial Functions"
   ]
  },
  {
   "cell_type": "code",
   "execution_count": 11,
   "metadata": {},
   "outputs": [],
   "source": [
    "import numpy as np\n",
    "import itertools\n",
    "\n",
    "\n",
    "\n",
    "#Easier to read polynomial function\n",
    "def poly(lst):  \n",
    "    return np.poly1d(lst)\n",
    "\n",
    "#To extract the degree of the polynomial, use:\n",
    "def deg(poly):  \n",
    "    return poly.order\n",
    "\n",
    "#To extract the leading coefficient of the polynomial:\n",
    "def leadingcoff(poly):\n",
    "    return poly.c[0]\n",
    "\n",
    "#Takes polynomials from Z[x] into F_p[x]\n",
    "#INPUT: polynomial in Z[x]\n",
    "#OUTPUT: polynomial in F_p[x]\n",
    "def ZtoFq(poly, p):\n",
    "    \n",
    "    new_coeff = []\n",
    "    d = deg(poly)\n",
    "    \n",
    "    for k in range(0, d + 1):\n",
    "        \n",
    "        new_coeff.append((poly[d - k] % p))  \n",
    "        \n",
    "    return np.poly1d(new_coeff)\n",
    "\n",
    "#I'm stupid. I'm so stupid\n",
    "#INPUT: f, g polynomials in Z/pZ[x]\n",
    "#OUTPUT: the image of f under the quotient map into Z/pZ[x]/(g)\n",
    "def fasterquotientmap(f, g, q):\n",
    "    \n",
    "    f = np.poly1d(np.polydiv(f, g)[1])\n",
    "    \n",
    "    return ZtoFq(f,q)\n",
    "\n",
    "#Generates list of all possible lists of polynomial coefficients in Z/pZ with degree strictly less than d\n",
    "def lstofpolynomials(p, d):\n",
    "    \n",
    "    lst = []\n",
    "    \n",
    "    for coeffs in itertools.product(range(p), repeat = d):\n",
    "        lst.append(coeffs)\n",
    "\n",
    "    return lst\n",
    "\n"
   ]
  },
  {
   "cell_type": "markdown",
   "metadata": {},
   "source": [
    "# Finite Field Tools"
   ]
  },
  {
   "cell_type": "code",
   "execution_count": 58,
   "metadata": {},
   "outputs": [],
   "source": [
    "import math\n",
    "\n",
    "# Applies the Euclidean Algorithm to compute the gcd of polynomials f and g in Z/pZ[x]\n",
    "def gcdfinder(f, g, p):\n",
    "    r0 = f\n",
    "    r1 = g\n",
    "    u0 = poly([1])\n",
    "    v0 = poly([0])\n",
    "    u1 = poly([0])\n",
    "    v1 = poly([1])\n",
    "\n",
    "    while (r1 != poly([0])):\n",
    "        pol = np.polydiv(r0, r1)[0]\n",
    "        quot = ZtoFq(pol, p)\n",
    "\n",
    "        R = ZtoFq(-quot * r1 + r0, p)\n",
    "        r0 = r1\n",
    "        r1 = R\n",
    "\n",
    "        U = ZtoFq(-quot * u1 + u0, p)\n",
    "        u0 = u1\n",
    "        u1 = U\n",
    "\n",
    "        V = ZtoFq(-quot * v1 + v0, p)\n",
    "        v0 = v1\n",
    "        v1 = V\n",
    "\n",
    "    return (u0, v0, r0)\n",
    "\n",
    "#Computes the inverse of x in Z/pZ\n",
    "def inverse(x, p):\n",
    "    inv = 1\n",
    "    for k in range(1, p):\n",
    "        if (k*x % p == 1):\n",
    "            inv = k\n",
    "    return inv\n",
    "\n",
    "#INPUT: polynomial g in Z/pZ[x]\n",
    "#OUTPUT: a monic polynomial g' such that (g) = (g') in Z/pZ[x]\n",
    "def makemonic(g, p):\n",
    "    f = inverse(leadingcoff(g), p)*g\n",
    "    return ZtoFq(f, p)\n",
    "\n",
    "#Brute force irreducibility checker for polynomials in Z/pZ[x]\n",
    "def irreducible(f, p):\n",
    "    \n",
    "    d = deg(f)\n",
    "        \n",
    "    for poly in lstofpolynomials(p, d):\n",
    "        \n",
    "        if deg(np.poly1d(poly)) == 0:\n",
    "            \n",
    "            continue\n",
    "        \n",
    "        if np.polydiv(f, np.poly1d(poly))[1] == np.poly1d([0]):\n",
    "            \n",
    "            return (False, poly)\n",
    "    \n",
    "    return True"
   ]
  },
  {
   "cell_type": "markdown",
   "metadata": {},
   "source": [
    "# Random Generator Tools"
   ]
  },
  {
   "cell_type": "code",
   "execution_count": 59,
   "metadata": {},
   "outputs": [],
   "source": [
    "import random as rnd\n",
    "\n",
    "\n",
    "#Generates a random polynomial of degree d in Z/pZ[x]\n",
    "def randompoly(d, p):\n",
    "    \n",
    "    lst = [rnd.randint(1, p-1)]\n",
    "    \n",
    "    for l in range(1, d+1):\n",
    "        \n",
    "        lst.append(rnd.randint(0, p-1))\n",
    "    \n",
    "    return np.poly1d(lst)\n",
    "\n",
    "#Generates a random irreducible polynomial of degree d in Z/pZ[x]\n",
    "def randomirreducible(d, p):\n",
    "    \n",
    "    f = randompoly(d, p)\n",
    "    \n",
    "    if irreducible(f, p) == True:\n",
    "        \n",
    "        return f\n",
    "    \n",
    "    else:\n",
    "        \n",
    "        f = randompoly(d, p)\n"
   ]
  },
  {
   "cell_type": "code",
   "execution_count": 69,
   "metadata": {},
   "outputs": [
    {
     "data": {
      "text/plain": [
       "poly1d([6])"
      ]
     },
     "execution_count": 69,
     "metadata": {},
     "output_type": "execute_result"
    }
   ],
   "source": [
    "randompoly(0, 7)"
   ]
  },
  {
   "cell_type": "markdown",
   "metadata": {},
   "source": [
    "# Legendre Symbol"
   ]
  },
  {
   "cell_type": "code",
   "execution_count": 14,
   "metadata": {},
   "outputs": [],
   "source": [
    "from sympy.ntheory import legendre_symbol\n",
    "\n",
    "def legendresymbol(f, h, p):\n",
    "    \n",
    "    legsym = 1\n",
    "    h = makemonic(h, p)\n",
    "    \n",
    "    while True:\n",
    "        \n",
    "        f = fasterquotientmap(f, h, p)\n",
    "        \n",
    "        if (f == poly([0])):\n",
    "            return 0\n",
    "        \n",
    "        c = leadingcoff(f)\n",
    "        \n",
    "        if (deg(f) == 0):    \n",
    "            return (legendre_symbol(int(c), p)**(deg(h)))*legsym\n",
    "        \n",
    "        f = ZtoFq(inverse(c, p)*f, p)\n",
    "        \n",
    "        if (((p-1)/2) % 2 == 1) and (deg(f) % 2 == 1) and (deg(h) % 2 == 1):\n",
    "            \n",
    "            legsym = -legendre_symbol(int(c), p)**(deg(h))*legsym\n",
    "            \n",
    "        else:\n",
    "            \n",
    "            legsym = legendre_symbol(int(c), p)**(deg(h))*legsym\n",
    "            \n",
    "        G = h\n",
    "        h = f\n",
    "        f = G\n",
    "   "
   ]
  },
  {
   "cell_type": "markdown",
   "metadata": {},
   "source": [
    "# Brute Force Legendre Symbol"
   ]
  },
  {
   "cell_type": "code",
   "execution_count": 38,
   "metadata": {},
   "outputs": [],
   "source": [
    "#Computes the set of squares in the quotient ring F_p[T]/(g) where deg(g) = d (Only works for q = p prime and odd)\n",
    "#This code also requires that g is monic or else the image under the quotient map will get... weird\n",
    "#For convenience, g will be become a monic polynomial that generates the same ideal as g\n",
    "def lstofsquares(g, p):\n",
    "    \n",
    "    g = makemonic(g, p)\n",
    "    \n",
    "    d = deg(g)\n",
    "    \n",
    "    lst = lstofpolynomials(p, d)\n",
    "    \n",
    "    sqlst = []\n",
    "    \n",
    "    for poly in lst:\n",
    "        \n",
    "        f = fasterquotientmap(np.poly1d(poly)*np.poly1d(poly), g, p)\n",
    "\n",
    "        sqlst.append(list(f.c))\n",
    "    \n",
    "    #This line of code erases duplicate entries in the list of squares\n",
    "    sqlst = [k for k,v in itertools.groupby(sorted(sqlst))]\n",
    "        \n",
    "    return sqlst\n",
    "\n",
    "#WARNING: This method only works for irreducible g.\n",
    "#Remember that the Legendre symbol defined as f = square mod g works for g irreducible.\n",
    "#When g is not, we are working with the Jacobi symbol which does not have the same residue meaning as the\n",
    "#Legendre symbol! i.e. (f/g) = 1 does not imply that f = square mod g\n",
    "def bruteforcelegendrecomputation(f, g, p):\n",
    "    \n",
    "    g = makemonic(g, p)\n",
    "    f = fasterquotientmap(f, g, p)\n",
    "    f_coeff = list(f.c)\n",
    "    \n",
    "    if f_coeff == [0]:\n",
    "        \n",
    "        return 0\n",
    "    \n",
    "    if (f_coeff in lstofsquares(g, p)) == True:\n",
    "        \n",
    "        return 1\n",
    "    \n",
    "    if (f_coeff in lstofsquares(g, p)) == False:\n",
    "        \n",
    "        return -1\n",
    "        "
   ]
  },
  {
   "cell_type": "markdown",
   "metadata": {},
   "source": [
    "# Legendre Symbol Verifier"
   ]
  },
  {
   "cell_type": "code",
   "execution_count": 70,
   "metadata": {},
   "outputs": [],
   "source": [
    "#Performs n random tests of the Legendre symbol between two polynomials of at most degree d\n",
    "#Compares outputs of Legendresymbol function and bruteforcelegendrecomputation function\n",
    "def testlegendresymbol(n, d):\n",
    "    \n",
    "    k = 0\n",
    "    primes = [3, 5, 7, 11, 13, 17, 19, 23]\n",
    "    \n",
    "    while k < n:\n",
    "        \n",
    "        p = primes[rnd.randint(0, 7)]\n",
    "        \n",
    "        deg1 = rnd.randint(0, d)\n",
    "        deg2 = rnd.randint(1, d)\n",
    "        \n",
    "        f = randompoly(deg1, p)\n",
    "        print(f)\n",
    "        \n",
    "        g = randomirreducible(deg2, p)\n",
    "        print(g)\n",
    "        \n",
    "        print(p)\n",
    "        print(legendresymbol(f, g, p))\n",
    "        print(bruteforcelegendrecomputation(f, g, p))\n",
    "        print(legendresymbol(f, g, p) == bruteforcelegendrecomputation(f, g, p))\n",
    "            \n",
    "        k = k + 1\n",
    "    "
   ]
  },
  {
   "cell_type": "code",
   "execution_count": 75,
   "metadata": {},
   "outputs": [
    {
     "name": "stdout",
     "output_type": "stream",
     "text": [
      " \n",
      "3 x + 3\n",
      "   4     3     2\n",
      "2 x + 1 x + 3 x + 4 x + 2\n",
      "5\n",
      "1\n",
      "-1\n",
      "False\n"
     ]
    }
   ],
   "source": [
    "testlegendresymbol(1, 5)"
   ]
  },
  {
   "cell_type": "code",
   "execution_count": 42,
   "metadata": {},
   "outputs": [
    {
     "name": "stdout",
     "output_type": "stream",
     "text": [
      "1 2 3\n"
     ]
    }
   ],
   "source": [
    "print(1, 2, 3)"
   ]
  },
  {
   "cell_type": "code",
   "execution_count": 43,
   "metadata": {},
   "outputs": [
    {
     "name": "stdout",
     "output_type": "stream",
     "text": [
      "1 2\n",
      "3\n"
     ]
    }
   ],
   "source": [
    "print(1, 2)\n",
    "print(3)"
   ]
  },
  {
   "cell_type": "code",
   "execution_count": 51,
   "metadata": {},
   "outputs": [
    {
     "data": {
      "text/plain": [
       "[[0.0], [1.0], [4.0]]"
      ]
     },
     "execution_count": 51,
     "metadata": {},
     "output_type": "execute_result"
    }
   ],
   "source": [
    "lstofsquares(poly([1, 2]), 5)"
   ]
  },
  {
   "cell_type": "code",
   "execution_count": 57,
   "metadata": {},
   "outputs": [
    {
     "data": {
      "text/plain": [
       "-1"
      ]
     },
     "execution_count": 57,
     "metadata": {},
     "output_type": "execute_result"
    }
   ],
   "source": [
    "legendre_symbol(2, 3)"
   ]
  },
  {
   "cell_type": "code",
   "execution_count": null,
   "metadata": {},
   "outputs": [],
   "source": []
  }
 ],
 "metadata": {
  "kernelspec": {
   "display_name": "Python 3",
   "language": "python",
   "name": "python3"
  },
  "language_info": {
   "codemirror_mode": {
    "name": "ipython",
    "version": 3
   },
   "file_extension": ".py",
   "mimetype": "text/x-python",
   "name": "python",
   "nbconvert_exporter": "python",
   "pygments_lexer": "ipython3",
   "version": "3.7.3"
  }
 },
 "nbformat": 4,
 "nbformat_minor": 2
}
